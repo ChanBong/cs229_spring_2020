{
 "cells": [
  {
   "cell_type": "markdown",
   "id": "portuguese-fruit",
   "metadata": {},
   "source": [
    "Suppose we are given a dataset $\\{(x(i), y(i)); i = 1, . . . , m\\}$ consisting of m independent examples, where $x(i) \\in \\mathbb{R}^n$ are n-dimensional vectors, and $y(i) ∈ \\{−1, 1\\}$. We will model the joint\n",
    "distribution of (x, y) according to"
   ]
  }
 ],
 "metadata": {
  "kernelspec": {
   "display_name": "Python 3",
   "language": "python",
   "name": "python3"
  },
  "language_info": {
   "codemirror_mode": {
    "name": "ipython",
    "version": 3
   },
   "file_extension": ".py",
   "mimetype": "text/x-python",
   "name": "python",
   "nbconvert_exporter": "python",
   "pygments_lexer": "ipython3",
   "version": "3.9.2"
  }
 },
 "nbformat": 4,
 "nbformat_minor": 5
}
