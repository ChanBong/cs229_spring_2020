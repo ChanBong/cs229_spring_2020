{
 "cells": [
  {
   "cell_type": "markdown",
   "id": "another-special",
   "metadata": {},
   "source": [
    "#### Problem Statement\n",
    "1. (a) Consider the average emperical loss for logistic regression\n",
    "$$\n",
    "J(\\theta) = \\frac{1}{m} \\sum_{i=1}^m{\\log(1 + e^{-y^{(i)}\\theta^T x^i})} = \\frac{-1}{m} \\sum_{i=1}^m{\\log(h_\\theta(y^{(i)}x^{(i)})}\n",
    "$$\n",
    "Find the Hessian $H$ of the function and show that for any vector $z$ \n",
    "$$\n",
    "z^THz \\geq 0.\n",
    "$$"
   ]
  },
  {
   "cell_type": "markdown",
   "id": "hungry-folks",
   "metadata": {},
   "source": [
    "#### Solution \n",
    "\n",
    "Lets start with the gradiant of $J$ \n",
    "Then take the second derivative. Due to nice properties of the behaviour of derivative of sigmoid we'll get the hesssian as $$H(i,j) = h_\\theta(1-h_\\theta)(y^{(i)})^2(x_ix_j)$$\n",
    "\n",
    "Details :\n",
    "$$\n",
    "\\frac{\\partial}{\\partial \\theta_j} J(\\theta)= -\\frac{1}{m}.\\sum_{i=1}^m (1-h_{\\theta}(y^i x^i)).y^i.x_j^i\n",
    "$$\n",
    "$$\n",
    "\\begin{align*}\n",
    "H_{j,k} &= \\frac{1}{m}.\\sum_{i=1}^m h_{\\theta}(y^i x^i).(1-h_{\\theta}(y^i x^i)).(y^i.x_j^i).(y^i.x_k^i)\\\\\n",
    "&= \\frac{1}{m}.\\sum_{i=1}^m h_{\\theta}(y^i x^i).(1-h_{\\theta}(y^i x^i)).x_j^i.x_k^i\n",
    "\\end{align*}\n",
    "$$\n",
    "\n",
    "For an arbitrary vector $z, z^THz$ will translate to $\\sum_i \\sum_j z_i x_i x_j z_j$ which is equal to $(x^Tz)^2$ which is $ \\geq 0 $ \n",
    "\n",
    "#### Insight\n",
    "\n",
    "This condition is equivalent with the statement that H is semidefinite (written as $H \\succeq 0$). Which means all of its eigenvalues are positive (Recall that H is a symmetric matrix so its eigenvalues are real by that property). Semi-definiteness of $H$ also implies that $J$ is convex and has no other local minima than the global one."
   ]
  },
  {
   "cell_type": "markdown",
   "id": "heard-roulette",
   "metadata": {},
   "source": [
    "1. (b) Given a binary classification dataset, fit it to a logistic regression model using Newton's method. Initialize Newton's method with $\\vec{\\theta} = \\vec{0}$. Also plot the results and desicion boundary"
   ]
  },
  {
   "cell_type": "markdown",
   "id": "phantom-space",
   "metadata": {},
   "source": [
    "#### Solution\n",
    "We'll follow the standard solution order\n",
    "1. Load the data into pandas dataframe\n",
    "2. Clean up and rectify the data\n",
    "3. Define the architecture\n",
    "4. Train the model \n",
    "5. Plot its results"
   ]
  },
  {
   "cell_type": "code",
   "execution_count": 30,
   "id": "taken-smart",
   "metadata": {},
   "outputs": [],
   "source": [
    "%matplotlib inline\n",
    "import numpy as np # imports a fast numerical programming library\n",
    "import scipy as sp #imports stats functions, amongst other things\n",
    "import matplotlib as mpl # this actually imports matplotlib\n",
    "import matplotlib.cm as cm #allows us easy access to colormaps\n",
    "import matplotlib.pyplot as plt #sets up plotting under plt\n",
    "import pandas as pd #lets us handle data as dataframes\n",
    "\n",
    "#sets up pandas table display\n",
    "pd.set_option('display.width', 500)\n",
    "pd.set_option('display.max_columns', 100)\n",
    "pd.set_option('display.notebook_repr_html', True)\n",
    "\n",
    "import seaborn as sns #sets up styles and gives us more plotting options"
   ]
  },
  {
   "cell_type": "code",
   "execution_count": 31,
   "id": "thrown-weapon",
   "metadata": {},
   "outputs": [
    {
     "data": {
      "text/html": [
       "<div>\n",
       "<style scoped>\n",
       "    .dataframe tbody tr th:only-of-type {\n",
       "        vertical-align: middle;\n",
       "    }\n",
       "\n",
       "    .dataframe tbody tr th {\n",
       "        vertical-align: top;\n",
       "    }\n",
       "\n",
       "    .dataframe thead th {\n",
       "        text-align: right;\n",
       "    }\n",
       "</style>\n",
       "<table border=\"1\" class=\"dataframe\">\n",
       "  <thead>\n",
       "    <tr style=\"text-align: right;\">\n",
       "      <th></th>\n",
       "      <th>x1</th>\n",
       "      <th>x2</th>\n",
       "    </tr>\n",
       "  </thead>\n",
       "  <tbody>\n",
       "    <tr>\n",
       "      <th>0</th>\n",
       "      <td>1.343250</td>\n",
       "      <td>-1.331148</td>\n",
       "    </tr>\n",
       "    <tr>\n",
       "      <th>1</th>\n",
       "      <td>1.820553</td>\n",
       "      <td>-0.634668</td>\n",
       "    </tr>\n",
       "    <tr>\n",
       "      <th>2</th>\n",
       "      <td>0.986321</td>\n",
       "      <td>-1.888576</td>\n",
       "    </tr>\n",
       "    <tr>\n",
       "      <th>3</th>\n",
       "      <td>1.944373</td>\n",
       "      <td>-1.635452</td>\n",
       "    </tr>\n",
       "    <tr>\n",
       "      <th>4</th>\n",
       "      <td>0.976734</td>\n",
       "      <td>-1.353315</td>\n",
       "    </tr>\n",
       "  </tbody>\n",
       "</table>\n",
       "</div>"
      ],
      "text/plain": [
       "         x1        x2\n",
       "0  1.343250 -1.331148\n",
       "1  1.820553 -0.634668\n",
       "2  0.986321 -1.888576\n",
       "3  1.944373 -1.635452\n",
       "4  0.976734 -1.353315"
      ]
     },
     "execution_count": 31,
     "metadata": {},
     "output_type": "execute_result"
    }
   ],
   "source": [
    "df_x = pd.read_csv(\"./data/logistic_x.txt\", sep=\"\\ +\", names=[\"x1\", \"x2\"], header=None, engine='python')\n",
    "df_y = pd.read_csv(\"./data/logistic_y.txt\", sep=\"\\ +\", names=[\"y\"], header=None, engine='python')\n",
    "df_y = df_y.astype(int)\n",
    "df_x.head()"
   ]
  },
  {
   "cell_type": "code",
   "execution_count": 32,
   "id": "solid-child",
   "metadata": {},
   "outputs": [],
   "source": [
    "x = np.hstack([np.ones((df_x.shape[0], 1)), df_x[[\"x1\",\"x2\"]].values]) #Horizontally stack the input while also adding a 1 coulmn\n",
    "y = df_y[\"y\"].values"
   ]
  },
  {
   "cell_type": "code",
   "execution_count": 33,
   "id": "electrical-gravity",
   "metadata": {},
   "outputs": [],
   "source": [
    "def sigmoid(x):\n",
    "    return (1/(1+np.exp(-x)))\n",
    "\n",
    "def hessian(theta, x, y):\n",
    "    hess = np.zeros((x.shape[1], x.shape[1]))                                    # Initialize a 0 n*n matrix \n",
    "    z = y*x.dot(theta)                                                          \n",
    "    for i in range(hess.shape[0]):\n",
    "        for j in range(hess.shape[0]):\n",
    "            if i<= j:\n",
    "                hess[i][j] = np.mean(sigmoid(z)*(1-sigmoid(z))*x[:,i]*x[:,j])    # Calculate one side of the diagonal only, remember to take into account 1/m by using np.mean()\n",
    "                if i != j:\n",
    "                    hess[j][i] = hess[i][j]                                      # Use symmetricity\n",
    "    return hess\n",
    "\n",
    "def gradiant(theta, x, y):\n",
    "    z = y*x.dot(theta)\n",
    "    g = -np.mean((1-sigmoid(z))*y*x.T, axis=1)\n",
    "    return g"
   ]
  },
  {
   "cell_type": "markdown",
   "id": "previous-portugal",
   "metadata": {},
   "source": [
    "#### Newton's method\n",
    "\n",
    "Newton's update rule for vectors is \n",
    "$$\n",
    "\\begin{align*}\n",
    "\\theta' := \\theta - H^{-1} \\nabla_\\theta J(\\theta)\n",
    "\\end{align*}\n",
    "$$"
   ]
  },
  {
   "cell_type": "code",
   "execution_count": 34,
   "id": "sufficient-heather",
   "metadata": {},
   "outputs": [],
   "source": [
    "def newton_update(theta0, x, y, eps):\n",
    "    theta = theta0\n",
    "    delta = 1\n",
    "    while delta > eps:\n",
    "        theta_prev = theta.copy()\n",
    "        theta -= np.linalg.inv(hessian(theta, x, y)).dot(gradiant(theta, x, y))\n",
    "        delta = np.linalg.norm(theta-theta_prev, ord=1)\n",
    "    return theta"
   ]
  },
  {
   "cell_type": "code",
   "execution_count": 35,
   "id": "recreational-international",
   "metadata": {},
   "outputs": [
    {
     "name": "stdout",
     "output_type": "stream",
     "text": [
      "[-2.6205116   0.76037154  1.17194674]\n"
     ]
    }
   ],
   "source": [
    "theta0 = np.zeros(x.shape[1])\n",
    "theta_final = newton_update(theta0, x, y, 1e-6)\n",
    "print(theta_final)"
   ]
  },
  {
   "cell_type": "code",
   "execution_count": 36,
   "id": "undefined-gothic",
   "metadata": {},
   "outputs": [
    {
     "data": {
      "text/html": [
       "<div>\n",
       "<style scoped>\n",
       "    .dataframe tbody tr th:only-of-type {\n",
       "        vertical-align: middle;\n",
       "    }\n",
       "\n",
       "    .dataframe tbody tr th {\n",
       "        vertical-align: top;\n",
       "    }\n",
       "\n",
       "    .dataframe thead th {\n",
       "        text-align: right;\n",
       "    }\n",
       "</style>\n",
       "<table border=\"1\" class=\"dataframe\">\n",
       "  <thead>\n",
       "    <tr style=\"text-align: right;\">\n",
       "      <th></th>\n",
       "      <th>y</th>\n",
       "      <th>x1</th>\n",
       "      <th>x2</th>\n",
       "    </tr>\n",
       "  </thead>\n",
       "  <tbody>\n",
       "    <tr>\n",
       "      <th>0</th>\n",
       "      <td>-1</td>\n",
       "      <td>1.343250</td>\n",
       "      <td>-1.331148</td>\n",
       "    </tr>\n",
       "    <tr>\n",
       "      <th>1</th>\n",
       "      <td>-1</td>\n",
       "      <td>1.820553</td>\n",
       "      <td>-0.634668</td>\n",
       "    </tr>\n",
       "    <tr>\n",
       "      <th>2</th>\n",
       "      <td>-1</td>\n",
       "      <td>0.986321</td>\n",
       "      <td>-1.888576</td>\n",
       "    </tr>\n",
       "    <tr>\n",
       "      <th>3</th>\n",
       "      <td>-1</td>\n",
       "      <td>1.944373</td>\n",
       "      <td>-1.635452</td>\n",
       "    </tr>\n",
       "    <tr>\n",
       "      <th>4</th>\n",
       "      <td>-1</td>\n",
       "      <td>0.976734</td>\n",
       "      <td>-1.353315</td>\n",
       "    </tr>\n",
       "  </tbody>\n",
       "</table>\n",
       "</div>"
      ],
      "text/plain": [
       "   y        x1        x2\n",
       "0 -1  1.343250 -1.331148\n",
       "1 -1  1.820553 -0.634668\n",
       "2 -1  0.986321 -1.888576\n",
       "3 -1  1.944373 -1.635452\n",
       "4 -1  0.976734 -1.353315"
      ]
     },
     "execution_count": 36,
     "metadata": {},
     "output_type": "execute_result"
    }
   ],
   "source": [
    "df_x.insert(0, \"y\", df_y)\n",
    "df_x[\"y\"] = pd.to_numeric(df_x[\"y\"],downcast='signed')\n",
    "df_x.head()"
   ]
  },
  {
   "cell_type": "code",
   "execution_count": 37,
   "id": "seeing-employee",
   "metadata": {},
   "outputs": [
    {
     "data": {
      "image/png": "[encoded data removed]",
      "text/plain": [
       "<Figure size 432x288 with 1 Axes>"
      ]
     },
     "metadata": {
      "needs_background": "light"
     },
     "output_type": "display_data"
    }
   ],
   "source": [
    "# Generate vector to plot decision boundary\n",
    "x1_vec = np.linspace(df_x[\"x1\"].min(),df_x[\"x1\"].max(),2);\n",
    "\n",
    "# Plot raw data\n",
    "sns.scatterplot(x=\"x1\", y=\"x2\", hue=\"y\", data=df_x);\n",
    "\n",
    "# Plot decision boundary\n",
    "plt.plot(x1_vec,(-x1_vec*theta_final[1]-theta_final[0])/theta_final[2], color=\"red\");"
   ]
  }
 ],
 "metadata": {
  "kernelspec": {
   "display_name": "Python 3",
   "language": "python",
   "name": "python3"
  },
  "language_info": {
   "codemirror_mode": {
    "name": "ipython",
    "version": 3
   },
   "file_extension": ".py",
   "mimetype": "text/x-python",
   "name": "python",
   "nbconvert_exporter": "python",
   "pygments_lexer": "ipython3",
   "version": "3.9.2"
  }
 },
 "nbformat": 4,
 "nbformat_minor": 5
}
